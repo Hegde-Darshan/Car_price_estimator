{
 "cells": [
  {
   "cell_type": "code",
   "execution_count": 1,
   "metadata": {},
   "outputs": [],
   "source": [
    "\"\"\" importing packages \"\"\"\n",
    "\n",
    "\"\"\" general computing packages \"\"\"\n",
    "import pandas as pd\n",
    "import numpy as np\n",
    "\n",
    "\"\"\" packages for data preperation and transformations\"\"\"\n",
    "from sklearn.preprocessing import OneHotEncoder, PowerTransformer, RobustScaler\n",
    "from sklearn.compose import ColumnTransformer\n",
    "\n",
    "\"\"\" packages for machine learning algorithms \"\"\"\n",
    "from xgboost import XGBRegressor\n",
    "\n",
    "\"\"\" packages for model metrics and model tuning and selection \"\"\"\n",
    "from sklearn.base import BaseEstimator, TransformerMixin\n",
    "\n",
    "import joblib\n",
    "import ipywidgets as widgets"
   ]
  },
  {
   "cell_type": "code",
   "execution_count": 2,
   "metadata": {},
   "outputs": [],
   "source": [
    "xgb_model = joblib.load(\"saved models/XGBRegression_model.joblib\")"
   ]
  },
  {
   "cell_type": "code",
   "execution_count": 43,
   "metadata": {},
   "outputs": [],
   "source": [
    "def make_prediction(input_data, ml_model = xgb_model):\n",
    "    \n",
    "    \"\"\" make predictions returns model prediction value for the given input data \"\"\"\n",
    "\n",
    "    predicted_price = ml_model.predict(input_data)\n",
    "    return f\"Predicted selling price of the car: {predicted_price[0]}\"\n"
   ]
  },
  {
   "cell_type": "code",
   "execution_count": 44,
   "metadata": {},
   "outputs": [],
   "source": [
    "def get_input(Company:str, year:int, km_driven: float, \n",
    "                        fuel:str, seller_type:str, transmission:str, owner:str, mileage:float, engine_cc:float, max_power_bhp:float, seats:int):\n",
    "    \n",
    "    \"\"\" make predictions returns model prediction value for the given input data \"\"\"\n",
    "\n",
    "    input_data = pd.DataFrame({\n",
    "    'Company' : Company,\n",
    "    'year'\t: year,\n",
    "    'km_driven'\t: km_driven,\n",
    "    'fuel'\t: fuel,\n",
    "    'seller_type'\t: seller_type,\n",
    "    'transmission'\t: transmission,\n",
    "    'owner'\t: owner,\n",
    "    'mileage'\t: mileage,\n",
    "    'engine_cc'\t: engine_cc,\n",
    "    'max_power_bhp'\t: max_power_bhp,\n",
    "    'seats': seats}, index=[0])\n",
    "    \n",
    "    return input_data\n"
   ]
  },
  {
   "cell_type": "code",
   "execution_count": 46,
   "metadata": {},
   "outputs": [
    {
     "data": {
      "text/html": [
       "<div>\n",
       "<style scoped>\n",
       "    .dataframe tbody tr th:only-of-type {\n",
       "        vertical-align: middle;\n",
       "    }\n",
       "\n",
       "    .dataframe tbody tr th {\n",
       "        vertical-align: top;\n",
       "    }\n",
       "\n",
       "    .dataframe thead th {\n",
       "        text-align: right;\n",
       "    }\n",
       "</style>\n",
       "<table border=\"1\" class=\"dataframe\">\n",
       "  <thead>\n",
       "    <tr style=\"text-align: right;\">\n",
       "      <th></th>\n",
       "      <th>Company</th>\n",
       "      <th>year</th>\n",
       "      <th>km_driven</th>\n",
       "      <th>fuel</th>\n",
       "      <th>seller_type</th>\n",
       "      <th>transmission</th>\n",
       "      <th>owner</th>\n",
       "      <th>mileage</th>\n",
       "      <th>engine_cc</th>\n",
       "      <th>max_power_bhp</th>\n",
       "      <th>seats</th>\n",
       "    </tr>\n",
       "  </thead>\n",
       "  <tbody>\n",
       "    <tr>\n",
       "      <th>0</th>\n",
       "      <td>others</td>\n",
       "      <td>2010</td>\n",
       "      <td>125000</td>\n",
       "      <td>Petrol</td>\n",
       "      <td>Individual</td>\n",
       "      <td>Manual</td>\n",
       "      <td>First Owner</td>\n",
       "      <td>22.5</td>\n",
       "      <td>800</td>\n",
       "      <td>85</td>\n",
       "      <td>5</td>\n",
       "    </tr>\n",
       "  </tbody>\n",
       "</table>\n",
       "</div>"
      ],
      "text/plain": [
       "  Company  year  km_driven    fuel seller_type transmission        owner  \\\n",
       "0  others  2010     125000  Petrol  Individual       Manual  First Owner   \n",
       "\n",
       "   mileage  engine_cc  max_power_bhp  seats  \n",
       "0     22.5        800             85      5  "
      ]
     },
     "execution_count": 46,
     "metadata": {},
     "output_type": "execute_result"
    }
   ],
   "source": [
    "another_fn('others',2010,125000,'Petrol','Individual','Manual','First Owner',22.5,800,85,5)"
   ]
  },
  {
   "cell_type": "code",
   "execution_count": 47,
   "metadata": {},
   "outputs": [
    {
     "data": {
      "application/vnd.jupyter.widget-view+json": {
       "model_id": "65c10dcc3cca465a9166f992c8fe820e",
       "version_major": 2,
       "version_minor": 0
      },
      "text/plain": [
       "interactive(children=(Dropdown(description='Car Company', options=('Maruti', 'Skoda', 'Honda', 'Hyundai', 'Toy…"
      ]
     },
     "metadata": {},
     "output_type": "display_data"
    }
   ],
   "source": [
    "widg = widgets.interactive(\n",
    "                get_input,\n",
    "                {'manual': True},\n",
    "                Company= widgets.Dropdown(\n",
    "                    options = ['Maruti', 'Skoda', 'Honda', 'Hyundai', 'Toyota', 'Ford', 'Renault',\n",
    "                                   'Mahindra', 'Tata', 'Chevrolet', 'others', 'Volkswagen', 'BMW'],\n",
    "                    Value='Maruti',\n",
    "                    description='Car Company',\n",
    "                    disabled=False\n",
    "                ),\n",
    "\n",
    "                year= widgets.SelectionSlider(\n",
    "                    options = [x for x in range(1990,2021)],\n",
    "                    Value=2001,\n",
    "                    description='Year of Manufacturing',\n",
    "                    disabled=False\n",
    "                ),\n",
    "\n",
    "                km_driven=widgets.IntSlider(\n",
    "                    min=100,\n",
    "                    max=1000000,\n",
    "                    value=1000\n",
    "                ),\n",
    "\n",
    "                fuel=widgets.ToggleButtons(\n",
    "                options=['Petrol', 'Diesel', 'others'],\n",
    "                description='Type of fuel:',\n",
    "                disabled=False,\n",
    "                tooltips=['Run on Petrol', 'Run on Diesel', 'Run on CNG/LPG']\n",
    "                ),\n",
    "\n",
    "                seller_type=widgets.ToggleButtons(\n",
    "                options=['Individual', 'Dealers'],\n",
    "                description='Type of seller:',\n",
    "                disabled=False,\n",
    "                tooltips=['Sold by an individual', 'Sold through Dealers']\n",
    "                ),\n",
    "\n",
    "                transmission=widgets.ToggleButtons(\n",
    "                options=['Manual', 'Automatic'],\n",
    "                description='Transmission:',\n",
    "                disabled=False,\n",
    "                tooltips=['Automatic transmission', 'Manual transmission']\n",
    "                ),\n",
    "\n",
    "                owner=widgets.ToggleButtons(\n",
    "                options=['First Owner', 'Second Owner', 'Third Owner', 'others'],\n",
    "                description='Owner hand:',\n",
    "                disabled=False\n",
    "                ),\n",
    "\n",
    "                mileage = widgets.FloatSlider(\n",
    "                    min=5,\n",
    "                    max=100,\n",
    "                    step=0.1,\n",
    "                    value=15\n",
    "                ),\n",
    "\n",
    "                engine_cc=  widgets.IntSlider(\n",
    "                    min =500,\n",
    "                    max =5000,\n",
    "                    value=1500,\n",
    "                    step=50\n",
    "                ),\n",
    "\n",
    "                max_power_bhp=  widgets.IntSlider(\n",
    "                    min =30,\n",
    "                    max =400,\n",
    "                    value=90,\n",
    "                    step=5\n",
    "                ),\n",
    "\n",
    "                seats= widgets.Dropdown(\n",
    "                    options = [4, 5, 6, 7, 8, 9, 10, 14],\n",
    "                    Value=5,\n",
    "                    description='Number of seats',\n",
    "                    disabled=False\n",
    "\n",
    "                ),\n",
    "\n",
    "            );\n",
    "\n",
    "display(widg)\n",
    "\n"
   ]
  },
  {
   "cell_type": "code",
   "execution_count": 49,
   "metadata": {},
   "outputs": [
    {
     "data": {
      "text/plain": [
       "'Predicted selling price of the car: 84850.703125'"
      ]
     },
     "execution_count": 49,
     "metadata": {},
     "output_type": "execute_result"
    }
   ],
   "source": [
    "make_prediction(pd.DataFrame(widg.kwargs, index=[0]))"
   ]
  },
  {
   "cell_type": "code",
   "execution_count": null,
   "metadata": {},
   "outputs": [],
   "source": []
  }
 ],
 "metadata": {
  "kernelspec": {
   "display_name": "Python 3 (ipykernel)",
   "language": "python",
   "name": "python3"
  },
  "language_info": {
   "codemirror_mode": {
    "name": "ipython",
    "version": 3
   },
   "file_extension": ".py",
   "mimetype": "text/x-python",
   "name": "python",
   "nbconvert_exporter": "python",
   "pygments_lexer": "ipython3",
   "version": "3.9.0"
  },
  "vscode": {
   "interpreter": {
    "hash": "9ce0ccd000ae651ec69b3244bf57e0ea20b2797ee680220c5a2e1863d5311c5a"
   }
  }
 },
 "nbformat": 4,
 "nbformat_minor": 2
}
